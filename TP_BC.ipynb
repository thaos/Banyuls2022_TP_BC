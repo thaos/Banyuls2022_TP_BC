{
 "cells": [
  {
   "cell_type": "markdown",
   "id": "37ec598e-b248-4cf5-94e2-a199c1acbc0e",
   "metadata": {},
   "source": [
    "# TP correction de biais"
   ]
  },
  {
   "cell_type": "markdown",
   "id": "02aa1fc3-1458-4041-bc32-70aeef21cdd2",
   "metadata": {},
   "source": [
    "## Table des matières"
   ]
  },
  {
   "cell_type": "markdown",
   "id": "de502859-9ccd-4f71-87b1-9365d2580041",
   "metadata": {},
   "source": [
    "1. Introduction\n",
    "1. Quelques réglages\n",
    "2. Les données\n",
    "3. Le quantile mapping\n",
    "4. CDF-$t$\n",
    "5. R$^2$D$^2$\n",
    "6. Références\n",
    "7. Ouverture: correction en temporel"
   ]
  },
  {
   "cell_type": "markdown",
   "id": "73209f07-cbee-4a1e-b380-fac9bf0a7838",
   "metadata": {},
   "source": [
    "## Introduction"
   ]
  },
  {
   "cell_type": "markdown",
   "id": "24e54a89-5e42-47d6-91fa-624768d0352a",
   "metadata": {},
   "source": [
    "Le but de ce TP sera d'appliquer quelques méthodes de correction de biais à des modèles climatiques. Les données corrigées seront utilisés dans les TPs suivants pour la modélisation hydro."
   ]
  },
  {
   "cell_type": "markdown",
   "id": "1ddd0f1a-bddc-405f-909a-668b39a0783c",
   "metadata": {},
   "source": [
    "Nous proposons dans ce TP de corriger les modèles suivants:"
   ]
  },
  {
   "cell_type": "markdown",
   "id": "18b505da-54ef-4213-bcc0-76c5475d0200",
   "metadata": {},
   "source": [
    "| gcm               | rcm           | run    | scenario   |\n",
    "|:------------------|:--------------|:-------|:-----------|\n",
    "| IPSL-IPSL-CM5A-MR | IPSL-WRF381P  | r1i1p1 | historical |\n",
    "|                   |               |        | rcp45      |\n",
    "|                   |               |        | rcp85      |\n",
    "| MOHC-HadGEM2-ES   | ICTP-RegCM4-6 | r1i1p1 | historical |\n",
    "|                   |               |        | rcp85      |\n"
   ]
  },
  {
   "cell_type": "markdown",
   "id": "dcfff42c-391b-4b1e-9dc2-c5916feca579",
   "metadata": {},
   "source": [
    "De ces modèles ont été extraits les séries moyennes sur les deux zones (Lez et Tech) représentées sur la figure suivante:"
   ]
  },
  {
   "cell_type": "markdown",
   "id": "8e3cd349-80a4-4a56-86fe-0ee5fbb95d36",
   "metadata": {},
   "source": [
    "<img src=\"figures/Illustration_TP.png\" width=600/>"
   ]
  },
  {
   "cell_type": "markdown",
   "id": "1e8d3f36-4f51-4451-ac74-af90d5f3ea49",
   "metadata": {},
   "source": [
    "Les cases et la colorbar associées représentent la portion de chaque point de grille interceptant les bassins Tech et Lez, les séries des modèles et des observations SAFRAN ont été calculés avec une moyenne pondéré par ces valeurs."
   ]
  },
  {
   "cell_type": "markdown",
   "id": "5097374e-e222-40ed-b97a-d2ed9acdc6d8",
   "metadata": {},
   "source": [
    "Commencons par quelques rappels théorique. Les données univariées d'un modèle\n",
    "seront notés $X$, et les multivariées $\\mathbf{X}$. De la même manière, la référence\n",
    "(SAFRAN) et la correction seront notée $Y$ et $\\mathbf{Y}$; et $Z$ et $\\mathbf{Z}$. Dans un\n",
    "contexte de calibration (resp.  projection), les variables seront notés $X^0$,\n",
    "$Y^0$ et $Z^0$ (resp. $X^1$, $Y^1$ et $Z^1$). Algorithmiquement, ces variables\n",
    "seront notés `X0`, `X1`, `Y0`, `Z0` et `Z1`."
   ]
  },
  {
   "cell_type": "markdown",
   "id": "617ce142-076b-4605-8584-0e26c468d7d7",
   "metadata": {},
   "source": [
    "À chacune de ces variables est attachées sa *distribution de probabilité*,\n",
    "qui sera notée $\\mathbb{P}_\\mathbf{X}$. Dans le cas univarié, nous utiliserons aussi la\n",
    "*fonction de répartition* (CDF), définie par:\n",
    "\n",
    "$$F_X(x) := \\mathbb{P}_X( X \\leq x ).$$\n",
    "\n",
    "Son inverse $F_X^{-1}$ se nomme la *fonction quantile*."
   ]
  },
  {
   "cell_type": "markdown",
   "id": "3a40b56d-666c-4474-8661-5c4641112205",
   "metadata": {},
   "source": [
    "Une fonction $\\mathcal{T}$ est une méthode de *correction de biais* de\n",
    "$\\mathbf{X}$ par rapport à $\\mathbf{Y}$ si la distribution de probabilité de $\\mathbf{Z}$ est\n",
    "$\\mathbb{P}_\\mathbf{Y}$, i.e. si elle transforme la distribution de probabilité de\n",
    "$\\mathbf{X}$ en celle de $\\mathbf{Y}$. Formellement, cela se traduit par les hypothèses:\n",
    "\n",
    "$$\n",
    "\\left\\{\n",
    "\\begin{aligned}\n",
    "\\mathbf{Z} &= \\mathcal{T}(\\mathbf{X}) \\\\\n",
    "\\mathbb{P}_\\mathbf{Z} &= \\mathbb{P}_\\mathbf{Y} = \\mathcal{T}(\\mathbb{P}_\\mathbf{X})\n",
    "\\end{aligned}\n",
    "\\right.\n",
    "$$"
   ]
  },
  {
   "cell_type": "markdown",
   "id": "875f9315-b502-4e70-9f5f-7881e2140969",
   "metadata": {},
   "source": [
    "Une méthode sera dite *stationnaire* si elle ne prend pas en compte\n",
    "un changement dans la distribution du modèle. À l'inverse les méthodes en tenant\n",
    "compte seront qualifiés de *non-stationnaires*."
   ]
  },
  {
   "cell_type": "markdown",
   "id": "372413a5-1d69-4c1e-a38d-c9475e5d54dc",
   "metadata": {},
   "source": [
    "Une méthode sera dite *univarié* si elle est uniquement capable de\n",
    "corriger les distributions marginales d'un modèle $\\mathbf{X}$, i.e. si elle ne peut\n",
    "que corriger indépendamment chacune des composantes $\\mathbf{X}=(X_1,\\dots,X_N)$. Une\n",
    "méthode capable de tenir compte de la dépendance entre les différentes\n",
    "composantes est qualifiée de *multivariée*."
   ]
  },
  {
   "cell_type": "markdown",
   "id": "fefe6d6e-e4fe-416e-8756-0b06d9aa53dd",
   "metadata": {},
   "source": [
    "Avant de rentrer dans le vif du TP, faisons quelques réglages."
   ]
  },
  {
   "cell_type": "markdown",
   "id": "aa35d973-b308-4968-8dbf-3313033368bc",
   "metadata": {},
   "source": [
    "---"
   ]
  },
  {
   "cell_type": "markdown",
   "id": "7182dd54-73cb-435e-9b16-a460ab9d454c",
   "metadata": {},
   "source": [
    "## Quelques réglages"
   ]
  },
  {
   "cell_type": "markdown",
   "id": "04d3a060-55a6-4a3e-ba28-97f2bd5464de",
   "metadata": {},
   "source": [
    "### Packages"
   ]
  },
  {
   "cell_type": "markdown",
   "id": "258cdb2e-c361-4611-a93d-d5deeb8b6ecc",
   "metadata": {},
   "source": [
    "Commencons par charger les deux packages suivants (sources disponibles en suivant les url):\n",
    "- [ROOPSD](https://github.com/yrobink/ROOPSD): un package pour estimer des distributions de probabilités (*R Object Oriented Programming for Statistical Distribution*)\n",
    "- [SBCK](https://github.com/yrobink/SBCK): le package qui contient les méthodes de corrections de biais (*Statistical Bias Correction Kit*)"
   ]
  },
  {
   "cell_type": "code",
   "execution_count": null,
   "id": "83e03b87-5605-4c3a-8166-2d1fde0dc7fd",
   "metadata": {},
   "outputs": [],
   "source": [
    "library(ROOPSD)\n",
    "library(SBCK)"
   ]
  },
  {
   "cell_type": "markdown",
   "id": "ec7bb372-453d-473a-8cac-058b0195186c",
   "metadata": {},
   "source": [
    "Normalement vous devriez avoir dans votre repertoire un fichier `ETP.R` que nous allons charger. Si ce n'est pas le cas, modifiez le chemin d'accès en conséquence."
   ]
  },
  {
   "cell_type": "code",
   "execution_count": null,
   "id": "0286811b-de77-42b2-a1bc-290a5ccf391e",
   "metadata": {},
   "outputs": [],
   "source": [
    "source(\"ETP.R\")"
   ]
  },
  {
   "cell_type": "markdown",
   "id": "4b32e9ba-3fdd-400d-a772-1b3110199dd5",
   "metadata": {},
   "source": [
    "### Le `print`"
   ]
  },
  {
   "cell_type": "markdown",
   "id": "34735f19-d4ea-4b19-b516-c27f0f312aff",
   "metadata": {},
   "source": [
    "En `R`, la fonction couramment utilisée pour afficher des résultats est le `print`. Cette fonction coupe par défaut la sortie à 80 caractères et renvoit à la ligne les suivants. La fonction suivante permet d'étendre cette limite à 300 caractères:"
   ]
  },
  {
   "cell_type": "code",
   "execution_count": null,
   "id": "7bf76f1c-791b-4ba6-8961-71569321566f",
   "metadata": {},
   "outputs": [],
   "source": [
    "base::options( width = 300 )"
   ]
  },
  {
   "cell_type": "markdown",
   "id": "35d05aea-eb68-498d-94d4-6b3c31795d27",
   "metadata": {},
   "source": [
    "Si le résultat ne vous convient pas (où que vous avez un écran trop petit), n'hésitez pas à changer la valeur."
   ]
  },
  {
   "cell_type": "markdown",
   "id": "aad88fdc-3b8f-49fa-8df2-9c0959581860",
   "metadata": {},
   "source": [
    "### Chemin vers les données"
   ]
  },
  {
   "cell_type": "markdown",
   "id": "6fadfe0e-e204-4fcb-a0a6-49feaf85c314",
   "metadata": {},
   "source": [
    "Le chemin d'accès vers les données d'entrée sera contenu dans la variable `ipath`, à modifier en fonction de l'endroit où vous avez mis les données sur votre ordinateur. Normalement le repertoire `ipath` doit contenir les repertoires `CORDEX` et `SAFRAN`.\n",
    "\n",
    "Un exemple est mis ici. Lorsque ce TP a été écrit, les données étaient dans un sous repertoire `data` du repertoire contenant le notebook. La commande `getwd` permet de récupérer le repertoire courant du notebook, que l'on concatène avec `\"data\"` en utilisant la fonction `file.path`. Notez que cette fonction `file.path` permet de joindre des chemins sans se soucier de savoir si le séparateur est un `/` (UNIX-like) ou un `\\` (windows)."
   ]
  },
  {
   "cell_type": "code",
   "execution_count": null,
   "id": "1d489c4b-5a91-4eb2-b8d0-8f57639d111c",
   "metadata": {},
   "outputs": [],
   "source": [
    "ipath = file.path( getwd() , \"data\" )"
   ]
  },
  {
   "cell_type": "markdown",
   "id": "8d214e6f-86a9-45ce-a9db-8c61f8a57d15",
   "metadata": {},
   "source": [
    "### Fonction de gestion des plots / sub-plots"
   ]
  },
  {
   "cell_type": "markdown",
   "id": "c104a49a-45aa-4100-9a5d-3f952fe3cb8f",
   "metadata": {},
   "source": [
    "La fonction `new_figure` est facultative. C'est une légère mise à jour de la fonction `par` pour créer des sous figures spécifique à jupyter, en réglant à peu près correctement la taille des figures et le ratio."
   ]
  },
  {
   "cell_type": "code",
   "execution_count": null,
   "id": "54feda79-93b4-4444-aa6f-7a7783a843b6",
   "metadata": {
    "tags": []
   },
   "outputs": [],
   "source": [
    "new_figure = function( nrow = 1 , ncol = 1 , ratio = nrow / ncol )\n",
    "{\n",
    "\tmm = 1. / 25.4\n",
    "\t\n",
    "\t## Build width\n",
    "\twidth = 1.5*180*mm\n",
    "\tif( ncol == 1 )\n",
    "\t\twidth = width / 2\n",
    "\tif( ncol == 2 )\n",
    "\t\twidth = width / (2/3)\n",
    "\t\n",
    "\t## Build height\n",
    "\theight = ratio * width\n",
    "\t\n",
    "\t## Set plot options\n",
    "\tbase::options( repr.plot.width = width , repr.plot.height = height , repr.plot.res = 200 )\n",
    "\tgraphics::par( mfrow = base::c(nrow,ncol) )\t\n",
    "}"
   ]
  },
  {
   "cell_type": "markdown",
   "id": "62acea8a-4561-4f59-b071-3241578f2578",
   "metadata": {},
   "source": [
    "### Fonction d'extraction des données"
   ]
  },
  {
   "cell_type": "markdown",
   "id": "01ef7f85-f712-4584-bc5f-ac454bf7f127",
   "metadata": {},
   "source": [
    "Ici sont réunis les fonctions pour extraires les données:\n",
    "\n",
    "- `SI2human_units`: cette fonction transforme les unités. (K -> °C, kg/m2/s -> mm / jour),\n",
    "- `read_observations`: cette fonction permet de relire les données SAFRAN,\n",
    "- `read_models`: cette fonction permet de relire les données des modèles,\n",
    "- `extract_period`: cette fonction permet de sélectionner une saison et une sous période de temps.\n"
   ]
  },
  {
   "cell_type": "code",
   "execution_count": null,
   "id": "85e62aea-6c42-4720-91ea-e050c7adb654",
   "metadata": {},
   "outputs": [],
   "source": [
    "SI2human_units = function(X)\n",
    "{\n",
    "\tfor( v in list(\"tas\",\"tasmin\",\"tasmax\") )\n",
    "\t\tX[,v] = X[,v] - 273.15\n",
    "\t\n",
    "\tX[,\"prtot\"] = 86400 * X[,\"prtot\"]\n",
    "\t\n",
    "\treturn(X)\n",
    "}"
   ]
  },
  {
   "cell_type": "code",
   "execution_count": null,
   "id": "538208ea-4dd7-4b4c-9b7d-63d58b790c1f",
   "metadata": {},
   "outputs": [],
   "source": [
    "## zone: 'Lez' ou 'Tech'\n",
    "## ipath: chemin d'accès\n",
    "read_observations = function( zone , ipath )\n",
    "{\n",
    "\tifile = paste0(\"SAFRAN_\",zone,\".csv\")\n",
    "\tY     = read.csv( file.path( ipath , \"SAFRAN\" , ifile ) , header = TRUE , row.names = 1 )\n",
    "\tY     = as.matrix(Y)\n",
    "\treturn( SI2human_units(Y) )\n",
    "}"
   ]
  },
  {
   "cell_type": "code",
   "execution_count": null,
   "id": "38518776-e274-45fc-adf2-dc0699977677",
   "metadata": {},
   "outputs": [],
   "source": [
    "## gcm: identifiant gcm (voir le tableau de l'introduction)\n",
    "## rcm: identifiant rcm (voir le tableau de l'introduction)\n",
    "## run: identifiant du run (voir le tableau de l'introduction)\n",
    "## scenario: le scénario\n",
    "## zone: 'Lez' ou 'Tech'\n",
    "## ipath: chemin d'accès\n",
    "read_models = function( gcm , rcm , run , scenario , zone , ipath )\n",
    "{\n",
    "\tifileh = paste0( paste( gcm , rcm , run , \"historical\" , zone , sep = \"_\" ) , \".csv\" )\n",
    "\tifilef = paste0( paste( gcm , rcm , run , scenario     , zone , sep = \"_\" ) , \".csv\" )\n",
    "\t\n",
    "\tXh = read.csv( file.path( ipath , \"CORDEX\" , ifileh ) , header = TRUE , row.names = 1 )\n",
    "\tXf = read.csv( file.path( ipath , \"CORDEX\" , ifilef ) , header = TRUE , row.names = 1 )\n",
    "\tXh = as.matrix(Xh)\n",
    "\tXf = as.matrix(Xf)\n",
    "\t\n",
    "\tX  = rbind(Xh,Xf)\n",
    "\t\n",
    "\treturn(SI2human_units(X))\n",
    "}"
   ]
  },
  {
   "cell_type": "code",
   "execution_count": null,
   "id": "141426d2-d35c-4d0d-ad13-36a7b2a2f99c",
   "metadata": {},
   "outputs": [],
   "source": [
    "## data: données d'entrée\n",
    "## seas: la saison choisie, 'JJA', 'DJF', 'MAM' ou 'SON'\n",
    "## period: un vecteur de deux années\n",
    "extract_period = function( data , seas , period )\n",
    "{\n",
    "\t## Build period\n",
    "\tt0 = base::paste( as.integer(period[1]) - 1 , \"11\" , \"30\" , sep = \"-\" )\n",
    "\tt1 = base::paste( as.integer(period[2])     , \"12\" , \"01\" , sep = \"-\" )\n",
    "\t\n",
    "\t## Transform seas to numbers\n",
    "\tmseas = list(\n",
    "\t\t\t\"MAM\" = base::c(\"03\",\"04\",\"05\"),\n",
    "\t\t\t\"JJA\" = base::c(\"06\",\"07\",\"08\"),\n",
    "\t\t\t\"SON\" = base::c(\"09\",\"10\",\"11\"),\n",
    "\t\t\t\"DJF\" = base::c(\"12\",\"01\",\"02\")\n",
    "\t\t\t)\n",
    "\t\n",
    "\t## Extract period\n",
    "\todata = subset( data  , (t0 < row.names(data)) & (row.names(data) < t1) & (format.Date( row.names(data) , \"%m\" ) %in% mseas[[seas]]) )\n",
    "\t\n",
    "\treturn(odata)\n",
    "}"
   ]
  },
  {
   "cell_type": "markdown",
   "id": "2c6617d3-2c32-4f7e-9072-446abea162ab",
   "metadata": {},
   "source": [
    "### Fonctions pour les corrections"
   ]
  },
  {
   "cell_type": "markdown",
   "id": "110b993b-1551-44c8-bb38-4e9097800b24",
   "metadata": {},
   "source": [
    "Deux fonctions sont données dans cette section:\n",
    "- `copy_attrs`: les méthodes de correction de SBCK retire les noms de lignes / colonnes des données, cette fonction permet de les rétablir,\n",
    "- `postprocessing`: comme nous le verrons, après une correction certaines étapes supplémentaires peuvent s'avérer necessaires. C'est le role de cette fonction qui implémente un choix possible.\n",
    "- `nb_cluster_0`: fonction qui calcule le nombre de cluster de 0 d'une taille donnée."
   ]
  },
  {
   "cell_type": "code",
   "execution_count": null,
   "id": "63ae8451-53fa-4b91-9898-3fce2aafa273",
   "metadata": {},
   "outputs": [],
   "source": [
    "copy_attrs = function( Z , X )\n",
    "{\n",
    "\tcolnames(Z) = colnames(X)\n",
    "\trownames(Z) = rownames(X)\n",
    "\treturn(Z)\n",
    "}"
   ]
  },
  {
   "cell_type": "code",
   "execution_count": null,
   "id": "3b8981aa-86e0-479c-9cef-e343384dcd69",
   "metadata": {},
   "outputs": [],
   "source": [
    "postprocessing = function( Z , X )\n",
    "{\n",
    "\t## Temperature\n",
    "\t## => Just reorder tas / tasmin / tasmax\n",
    "\tidx = base::c(2,1,3)\n",
    "\tZ[,idx] = base::t( apply( Z[,idx] , 1 , sort ) )\n",
    "\t\n",
    "\t## Precipitation\n",
    "\t## All values < 0.1mm/day are equal to 0\n",
    "\tth = 0.1 / 86400\n",
    "\tZ[ Z[,6] < th,6] = 0\n",
    "\t\n",
    "\t## sfcWind and huss: remove negative values\n",
    "\tfor( i in 4:5 )\n",
    "\t{\n",
    "\t\tidx = Z[,i] < 0\n",
    "\t\tif( base::any(idx) )\n",
    "\t\t\tZ[idx,i] = 0\n",
    "\t}\n",
    "\t\n",
    "\tZ = copy_attrs(Z,X)\n",
    "\t\n",
    "\treturn(Z)\n",
    "}"
   ]
  },
  {
   "cell_type": "code",
   "execution_count": null,
   "id": "7fc08b9c-b6e5-4469-a988-f1d5a26c6c58",
   "metadata": {},
   "outputs": [],
   "source": [
    "## X: série temporelle des pluies\n",
    "## n_day: calcule le nombre de cluster de taille 1, 2, 3, ... n_day\n",
    "nb_cluster_0 = function( X , n_day )\n",
    "{\n",
    "\tnb = numeric(n_day+1)\n",
    "\t\n",
    "\tfor( i in 1:(n_day+1) )\n",
    "\t{\n",
    "\t\tXm    = !( apply( matrix( toeplitz(X)[,1:i] , ncol = i ) , 1 , max ) > 1e-3 )\n",
    "\t\tnb[i] = sum(rle(Xm)$values)\n",
    "\t\tif( i > 1 )\n",
    "\t\t\tnb[i-1] = nb[i-1] - nb[i]\n",
    "\t}\n",
    "\treturn(nb[-(n_day+1)])\n",
    "}"
   ]
  },
  {
   "cell_type": "markdown",
   "id": "32bb4dca-1507-43a6-b492-88a341d5c7d2",
   "metadata": {},
   "source": [
    "### Pour vous aider..."
   ]
  },
  {
   "cell_type": "markdown",
   "id": "76707a5d-c518-4f41-ad54-9b9716d54ccd",
   "metadata": {},
   "source": [
    "Dans ce TP, vous serez amener à calculer plusieurs fois des biais, afficher des densités, etc. Comme ces algorithmes vont souvent revenir, il sera de bon ton d'en faire des fonctions réutilisables. Au cas où le temps nous manquerait (ou que vous auriez des difficultés de programmations), elle sont disponibles dans le fichier `correction_function.R`:"
   ]
  },
  {
   "cell_type": "code",
   "execution_count": null,
   "id": "5fb547a0-3e4a-4e14-b5b5-6975020e6d0b",
   "metadata": {},
   "outputs": [],
   "source": [
    "source(\"correction_function.R\")"
   ]
  },
  {
   "cell_type": "markdown",
   "id": "2e3cc875-887f-4daf-8b0a-c25aeb8e510e",
   "metadata": {},
   "source": [
    "Ce fichier contient les fonctions suivantes:\n",
    "\n",
    "- `basic_bias(X,Y,lZ=NULL)` Prend `X`, `Y` et optionnellement une liste de correction `lZ` pour afficher les biais.\n",
    "- `plot_density(X,Y,Z=NULL)` Affiche les densités de `X`, `Z` et optionnellement d'une correction `Z`.\n",
    "- `delta_projection(X0,X1,lZ0,lZ1)` Affiche les écarts entre les deux périodes.\n",
    "- `plot_projection_density(X0,Y0,X1,lZ1)` Affiche les densités, \n",
    "- `plot_density_ETP(etpX0,etpY0,letpZ0)` Affiche les densités des ETP\n",
    "- `corr_bias(X0,Y0,lZ0=NULL,relatif=FALSE)` Affiche les biais des corrections (en relatif ou non)\n"
   ]
  },
  {
   "cell_type": "markdown",
   "id": "f74b935c-1a39-45d6-901c-96dda3347a7e",
   "metadata": {},
   "source": [
    "---"
   ]
  },
  {
   "cell_type": "markdown",
   "id": "2fb499d6-c0e6-443d-a5f3-f069094d3927",
   "metadata": {},
   "source": [
    "## I. Exploration des données"
   ]
  },
  {
   "cell_type": "markdown",
   "id": "003e60ec-942c-4a77-9eaa-5eff7d6ae55e",
   "metadata": {},
   "source": [
    "Nous proposons de faire une première fois ce TP sur la zone *Tech*, en se restreignant aux étés. Nous prendrons comme période calibration 1976 / 2005, et comme période de projection 2070 / 2099. Initialisons donc les variables correspondantes:"
   ]
  },
  {
   "cell_type": "code",
   "execution_count": null,
   "id": "3885309b-1981-411e-8c53-ccce2b75dbae",
   "metadata": {},
   "outputs": [],
   "source": [
    "zone  = \"Tech\"\n",
    "seas  = \"JJA\"\n",
    "calib = base::c(1976,2005)\n",
    "proj  = base::c(2070,2099)"
   ]
  },
  {
   "cell_type": "markdown",
   "id": "f1e2180b-7689-476e-a2d9-24ef94265063",
   "metadata": {},
   "source": [
    "Nous travaillerons aussi avec le modèle *IPSL-IPSL-CM5A-MR / IPSL-WRF381*, scénario *rcp85*:"
   ]
  },
  {
   "cell_type": "code",
   "execution_count": null,
   "id": "1e2b7ae8-dfdd-4cdc-93fc-6fb38f77e1da",
   "metadata": {},
   "outputs": [],
   "source": [
    "gcm      = \"IPSL-IPSL-CM5A-MR\"\n",
    "rcm      = \"IPSL-WRF381P\"\n",
    "run      = \"r1i1p1\"\n",
    "scenario = \"rcp85\""
   ]
  },
  {
   "cell_type": "markdown",
   "id": "55cdbcad-da84-4836-bcce-5e0c50f373a8",
   "metadata": {},
   "source": [
    "### I.1. Les observations"
   ]
  },
  {
   "cell_type": "markdown",
   "id": "f7bf0de1-6694-43e6-b31f-e18ea80a352b",
   "metadata": {},
   "source": [
    "**Problème** Charger les données d'observations dans une variable `Y` à l'aide de la fonction `read_observations`, et utiliser la fonction `extract_period` ainsi que les variables précédentes pour construire les observations en période de calibration `Y0`."
   ]
  },
  {
   "cell_type": "code",
   "execution_count": null,
   "id": "031d0390-5739-4b3c-9cfe-4c207881beac",
   "metadata": {},
   "outputs": [],
   "source": []
  },
  {
   "cell_type": "markdown",
   "id": "b6fecda0-97c3-481a-8e38-438ae99dbeb2",
   "metadata": {},
   "source": [
    "### I.2. Le modèle à corriger"
   ]
  },
  {
   "cell_type": "markdown",
   "id": "490a32f6-9334-4e7e-99cf-7c15a5cf5c27",
   "metadata": {},
   "source": [
    "**Problème** Charger les données modèles dans une variable `X` à l'aide de la fonction `read_models`, et utiliser la fonction `extract_period` ainsi que les variables précédentes pour construire le modèle en période de calibration `X0` et projection `X1`."
   ]
  },
  {
   "cell_type": "code",
   "execution_count": null,
   "id": "066f448f-b6d3-4670-be45-2be1eab9de06",
   "metadata": {},
   "outputs": [],
   "source": []
  },
  {
   "cell_type": "markdown",
   "id": "b5a8a6ce-7a7b-4c71-b18d-a0ec6cf8b452",
   "metadata": {},
   "source": [
    "### I.3. Format des données"
   ]
  },
  {
   "cell_type": "markdown",
   "id": "eada9531-4196-4296-845c-ae346fa4b18c",
   "metadata": {},
   "source": [
    "Les données `Y0`, `X0` et `X1` sont des matrices où les lignes sont l'axe du temps, et les variables sont en colonnes. Vous pouvez ainsi accéder directement à une ligne / colonne particulière avec la syntaxe suivante:\n",
    "\n",
    "- `Y0[,\"tas\"]`: Affiche la colonne contenant la température moyenne.\n",
    "- `Y0[\"1976-01-01\",]`: Affiche toutes les variables le 1er janvier 1976.\n"
   ]
  },
  {
   "cell_type": "markdown",
   "id": "8e5f3f64-e13d-423f-a731-5d23db998ed5",
   "metadata": {},
   "source": [
    "**Problème** Affichez les noms des lignes et colonnes avec les fonctions `colnames` et `rownames`."
   ]
  },
  {
   "cell_type": "code",
   "execution_count": null,
   "id": "edbcfb7a-8bfd-4ef3-a2ee-1fcc4855217e",
   "metadata": {},
   "outputs": [],
   "source": []
  },
  {
   "cell_type": "markdown",
   "id": "b8be9032-c894-4306-93f5-efaae8c63157",
   "metadata": {},
   "source": [
    "### I.4. Quels biais ?"
   ]
  },
  {
   "cell_type": "markdown",
   "id": "a5d3ddda-03e6-4974-99c2-1ce660cb2998",
   "metadata": {},
   "source": [
    "**Problème 1** Sur la période de calibration, examiner la différence entre `Y0` et `X0` en moyenne (fonction `mean`), en écart type (fonction `sd`) ainsi que pour quelques niveaux de quantiles (fonction `quantile`). Exprimez les biais en différence brute, et en relatif."
   ]
  },
  {
   "cell_type": "markdown",
   "id": "c6eefe66-607c-45d3-8707-8a50e4e7d772",
   "metadata": {},
   "source": [
    "**Problème 2** Faire 6 figures, chacune affichant les densités de `Y0` et `X0` de chaque variables. Fonction utiles: `plot`, `lines`, `density`, `new_figure`. Dans la fonction `density`, attention au paramètre `bw` (pour *bandwidth*) qui peut différer d'un jeu de donnée à un autre."
   ]
  },
  {
   "cell_type": "markdown",
   "id": "20a2ba35-a2bb-4178-9000-c29e5b24a60e",
   "metadata": {},
   "source": [
    "***Tips*** Vu que nous allons sans cesse examiner des biais, il peut être utile de transformer les deux étapes précédentes en fonctions que vous pourrez appeler à la demande. Pour la correction j'ai par exemple construit la fonction `basic_bias( X , Y , lZ = NULL)` qui affiche les biais entre `Y` et `X`, et si la liste des corrections `lZ` n'est pas `NULL`, les biais entre `Y` et les éléments de `lZ`. J'ai fait de même pour les densités avec une fonction `plot_density( X , Y , Z = NULL )`."
   ]
  },
  {
   "cell_type": "code",
   "execution_count": null,
   "id": "5519baab-9eca-41c2-aeac-7ec81eb6f2f4",
   "metadata": {},
   "outputs": [],
   "source": []
  },
  {
   "cell_type": "markdown",
   "id": "53904e28-bef3-423c-b5a4-fd634890b2ec",
   "metadata": {},
   "source": [
    "---"
   ]
  },
  {
   "cell_type": "markdown",
   "id": "2cfcc6e2-3fb6-4f07-80d9-ea21ec136d64",
   "metadata": {},
   "source": [
    "## II. Le quantile mapping"
   ]
  },
  {
   "cell_type": "markdown",
   "id": "14bd2968-2254-4a8d-a97d-aed9dee01697",
   "metadata": {},
   "source": [
    "### II.1. Éléments théorique"
   ]
  },
  {
   "cell_type": "markdown",
   "id": "b15dca81-36a4-436c-aa81-b55163045658",
   "metadata": {},
   "source": [
    "La première méthode que nous allons voir est\n",
    "le *quantile mapping* (HADDAD et ROSENFELD, 1997), qui est univarié et stationnaire.\n",
    "L'hypothèse de cette méthode est que la valeur $x\\in X$ admet la correction\n",
    "$y\\in Y$ si elles ont le même niveau de quantile. Autrement dit, si:\n",
    "\n",
    "$$F_X(x)=F_Y(y).$$\n",
    "\n",
    "Sous l'hypothèse que $F_Y$ est inversible, on en déduit directement la fonction\n",
    "de correction $\\mathcal{T}$:\n",
    "\n",
    "$$\\mathcal{T} = F_Y^{-1}\\circ F_X.$$\n",
    "\n",
    "Cette méthode a l'avantage d'être facile à implémenter et numériquement rapide.\n",
    "Bien qu'elle ne tienne pas compte de la structure de dépendance de $Y$, elle\n",
    "reproduit celle de $X$ sur $Z$. Son inconvénient étant qu'elle est stationnaire,\n",
    "et peut donc difficilement corriger les projections climatiques.\n"
   ]
  },
  {
   "cell_type": "markdown",
   "id": "2549b8c2-efb9-4172-bb85-5cc4b765a3ab",
   "metadata": {},
   "source": [
    "### II.2. Correction"
   ]
  },
  {
   "cell_type": "markdown",
   "id": "617bc71c-5bbb-48fd-a132-ef0e093b88df",
   "metadata": {},
   "source": [
    "Le package `SCBK` implémente plusieurs méthodes stationnaires (i.e. capable de corriger en période calibration). Elles s'appellent toutes sur le modèle suivant:\n",
    "\n",
    "~~~R\n",
    "bcm = SBCK::QM$new() ## Initialisation de la méthode, avec ses paramètres potentiels (ici aucun)\n",
    "bcm$fit( Y0 , X0 )   ## Construction de la fonction de correction entre X0 et Y0\n",
    "Z0 = bcm$predict(X0) ## Correction de X0\n",
    "~~~\n"
   ]
  },
  {
   "cell_type": "markdown",
   "id": "b81299dc-19d0-4a1d-b2ff-1afb8c6f3b06",
   "metadata": {},
   "source": [
    "**Problème** Corrigez `X0` et `X1` à l'aide de la méthode `SBCK::QM`. Utilisez ensuite la fonction `postprocessing`."
   ]
  },
  {
   "cell_type": "code",
   "execution_count": null,
   "id": "318e7cd1-1b8e-4788-be68-a3e5f5ddeb79",
   "metadata": {},
   "outputs": [],
   "source": []
  },
  {
   "cell_type": "markdown",
   "id": "a4d6bcaf-1190-4db9-a37b-0170feb8d39b",
   "metadata": {},
   "source": [
    "### II.3. Biais résiduels en calibration"
   ]
  },
  {
   "cell_type": "markdown",
   "id": "05f00c0c-6b5d-4978-a9dc-e8a10987f600",
   "metadata": {},
   "source": [
    "**Problème** À l'aide des algorithmes développés à la section précédente, comparez les biais des données corrigées et des données d'origines."
   ]
  },
  {
   "cell_type": "code",
   "execution_count": null,
   "id": "dddcadda-5d05-42dd-b309-95edcfeadefd",
   "metadata": {},
   "outputs": [],
   "source": []
  },
  {
   "cell_type": "markdown",
   "id": "8b087609-9661-41f5-abcf-f5e3bb52d2f0",
   "metadata": {},
   "source": [
    "### II.4. Et la période de projection ?"
   ]
  },
  {
   "cell_type": "markdown",
   "id": "4b8589ef-9f7c-486b-8fca-5ce132c3e6e3",
   "metadata": {},
   "source": [
    "**Problème 1** Pour les statistiques précédemment étudiées, comparez la différence `X1` et `X0` et la différence `Z1` et `Z0`. Par exemple, vous pouvez regarder les deux indicateurs suivants:\n",
    "\n",
    "$$ \\mathbb{E}(\\mathbf{X}^1) - \\mathbb{E}(\\mathbf{X}^0) $$\n",
    "$$ \\frac{\\mathbb{E}(\\mathbf{X}^1) - \\mathbb{E}(\\mathbf{X}^0)}{\\mathbb{E}(\\mathbf{X}^0)} $$\n"
   ]
  },
  {
   "cell_type": "markdown",
   "id": "ba657902-c10e-4a8c-9084-9fc10704a0d5",
   "metadata": {},
   "source": [
    "**Problème 2** De la même manière, affichez les densités de `X0`, `X1`, `Z0` et `Z1`."
   ]
  },
  {
   "cell_type": "code",
   "execution_count": null,
   "id": "4dfaf48b-7ded-459b-b5e8-3bc61bb4e3e8",
   "metadata": {},
   "outputs": [],
   "source": []
  },
  {
   "cell_type": "markdown",
   "id": "4e70bcce-f96c-4f41-8942-22f94c1a0d6a",
   "metadata": {},
   "source": [
    "### II.5. Résumé\n",
    "Le quantile mapping est donc une méthode capable de corriger les variables en période de calibration, mais la correction en période de projection reste bloquée aux valeurs *déja observées*. Donc par exemple, un changement comme le changement climatique risque d'être sous estimé avec cette méthode."
   ]
  },
  {
   "cell_type": "markdown",
   "id": "fd77a905-d946-4865-ba7b-6ddda19f481c",
   "metadata": {},
   "source": [
    "---"
   ]
  },
  {
   "cell_type": "markdown",
   "id": "11e28431-a089-4b5e-ac22-0f7ebeef94e0",
   "metadata": {},
   "source": [
    "## III. La méthode CDF-$t$"
   ]
  },
  {
   "cell_type": "markdown",
   "id": "d930556f-250b-4fec-b00d-cde6db5edec6",
   "metadata": {},
   "source": [
    "### III.1. Éléments théorique"
   ]
  },
  {
   "cell_type": "markdown",
   "id": "84e3c8ca-b9b7-4cd3-8027-cdd4884161bf",
   "metadata": {},
   "source": [
    "L'hypothèse de CDF-$t$ est de supposer que la transformation de $Y^0$ vers $Y^1$ (les potentielles observations futures)\n",
    "est la même que celle de $X^0$ vers $X^1$, i.e. on veut que *la correction des\n",
    "projections suivent la même dynamique que celle du modèle*. À l'aide du quantile mapping, la transformation de $X^0$ vers $X^1$ (et idem pour $Y^0$ et $Y^1$) est donnée par:\n",
    "\n",
    "$$F^{-1}_{X^1}\\circ F_{X^0} $$\n",
    "\n",
    "L'hypothèse de CDF-$t$ s'écrit donc:\n",
    "\n",
    "$$ F^{-1}_{Y^1}\\circ F_{Y^0} = F^{-1}_{X^1}\\circ F_{X^0} $$\n",
    "\n",
    "En recombinant les deux cotés de l'équation, nous trouvons:\n",
    "\n",
    "$$ F_{Y^1} = F_{Y^0} \\circ F^{-1}_{X^0} \\circ F_{X^1} $$\n",
    "\n",
    "Ceci nous donne comme fonction de correction:\n",
    "\n",
    "$$\\mathcal{T}=\\left(F_{Y^0} \\circ F^{-1}_{X^0} \\circ F_{X^1}\\right)^{-1}\\circ F_{X^1}.$$\n",
    "\n",
    "Notons que cette fonction est cohérente: si on remplace $X^1$ par $X^0$ nous\n",
    "retombons bien sur le quantile mapping.\n"
   ]
  },
  {
   "cell_type": "markdown",
   "id": "d25c3468-92f6-4ab6-ba90-b882ad3df12c",
   "metadata": {},
   "source": [
    "### III.2. Correction"
   ]
  },
  {
   "cell_type": "markdown",
   "id": "bf5f848f-6c87-45e5-9413-cb076ef9398e",
   "metadata": {},
   "source": [
    "La méthode CDF-$t$ fait partie des méthodes non-stationnaires, sa syntaxe d'utilisation est donc légèrement différente:\n",
    "\n",
    "~~~R\n",
    "bcm = SBCK::CDFt$new()\n",
    "bcm$fit( Y0 , X0 , X1 )\n",
    "Z  = bcm$predict(X1,X0)\n",
    "Z0 = Z$Z0\n",
    "Z1 = Z$Z1\n",
    "~~~\n"
   ]
  },
  {
   "cell_type": "markdown",
   "id": "217a80a4-b54f-43c6-b46f-442f474be478",
   "metadata": {},
   "source": [
    "**Problème** Corriger `X0` et `X1` à l'aide de CDF-$t$."
   ]
  },
  {
   "cell_type": "code",
   "execution_count": null,
   "id": "2d8e85d9-af58-40ae-a8ea-6bc8d9a6baa1",
   "metadata": {},
   "outputs": [],
   "source": []
  },
  {
   "cell_type": "markdown",
   "id": "8e675a83-65e5-4c66-b38b-2188cfceb90d",
   "metadata": {},
   "source": [
    "### III.3. Biais résiduels en calibration"
   ]
  },
  {
   "cell_type": "markdown",
   "id": "9bcb915b-7b26-4bdd-9adf-d993738dd340",
   "metadata": {},
   "source": [
    "**Problème** Comparez les biais des données corrigées et des données d'origines."
   ]
  },
  {
   "cell_type": "code",
   "execution_count": null,
   "id": "95bcefaf-306c-4174-9632-160ad32b78dc",
   "metadata": {},
   "outputs": [],
   "source": []
  },
  {
   "cell_type": "markdown",
   "id": "5e08d903-4cb4-48cb-849c-18245f77a868",
   "metadata": {},
   "source": [
    "### III.4. Et la période de projection ?"
   ]
  },
  {
   "cell_type": "markdown",
   "id": "037adbe4-8b0e-46ef-88d2-a137893ec76c",
   "metadata": {},
   "source": [
    "**Problème** Reproduisez l'analyse de la section précédente, et comparer la aux résultats du quantile mapping."
   ]
  },
  {
   "cell_type": "code",
   "execution_count": null,
   "id": "8fe6f4be-b672-4b0f-a9aa-edd913577f5a",
   "metadata": {},
   "outputs": [],
   "source": []
  },
  {
   "cell_type": "markdown",
   "id": "7251bf91-ed84-48eb-9d06-38c911a0d626",
   "metadata": {},
   "source": [
    "### III.5. Calcul des ETPs"
   ]
  },
  {
   "cell_type": "markdown",
   "id": "fb92f51e-2508-4a9d-b8b3-abb6aa0cded8",
   "metadata": {},
   "source": [
    "Nous allons maintenant calculer l'évapotranspiration potentielle (*ETP* en Francais, *evspsblpot* en convention MIP). C'est une variable très importante en hydrologie, et dont le calcul dépend de (dans le contexte de ce TP, plusieurs estimateurs existent):\n",
    "- La température minimale (tasmin)\n",
    "- La température maximale (tasmax)\n",
    "- Le vent moyen (sfcWind)\n",
    "- L'humidité spécifique (huss)"
   ]
  },
  {
   "cell_type": "markdown",
   "id": "18d45300-c701-4539-8857-457b3f1c26a3",
   "metadata": {},
   "source": [
    "**Problème** À l'aide la fonction `find_ETP` du fichier `ETP.R` (qui a normalement déja été chargé au début de ce TP avec la fonction `source`), calculez les ETPs de `Y0`, `X0`, et des différentes corrections `Z0`. Comparez les."
   ]
  },
  {
   "cell_type": "code",
   "execution_count": null,
   "id": "5dd6ac29-cee1-40b2-a07f-581c9240bd8e",
   "metadata": {},
   "outputs": [],
   "source": []
  },
  {
   "cell_type": "markdown",
   "id": "8098edb0-1ade-4eaa-83b9-91433863ff27",
   "metadata": {},
   "source": [
    "### III.6. La structure de dépendance"
   ]
  },
  {
   "cell_type": "markdown",
   "id": "899ac479-916c-4a52-91c3-db7254853d24",
   "metadata": {},
   "source": [
    "#### III.6.1. Intuition de la structure de dépendance"
   ]
  },
  {
   "cell_type": "markdown",
   "id": "dfadfb20-ecb6-4611-9747-54afba46dcfc",
   "metadata": {},
   "source": [
    "Le problème pour le biais des ETPs vient de la structure de dépendance qui n'est pas corrigé par la méthode CDF-$t$. Pour développer une intuition de cette structure, nous proposons d'examiner la structure entre `tas` et `tasmin` de `Y0`. La syntaxe suivante permet de construire une variable aléatoire `rvY0TM` disposant d'un générateur:\n",
    "\n",
    "~~~R\n",
    "rvY0TM = ROOPSD::rv_histogram$new()$fit(Y0[,1])\n",
    "Y0TMu  = rvY0TM$rvs(1000)\n",
    "~~~"
   ]
  },
  {
   "cell_type": "markdown",
   "id": "49a07aef-3aab-4547-b8bf-e1b4a23bc2ba",
   "metadata": {},
   "source": [
    "**Problème 1** En vous inspirant du code précédent, générez deux séries aléatoires selon `tas` et `tasmin`.\n",
    "\n",
    "**Problème 2** Sur un même graphique, représentez `tas` en fonction de `tasmin` pour `Y0`, et les deux séries que vous avez généré."
   ]
  },
  {
   "cell_type": "code",
   "execution_count": null,
   "id": "62f76a21-e17e-4306-9e44-16b7cb6bdf62",
   "metadata": {},
   "outputs": [],
   "source": []
  },
  {
   "cell_type": "markdown",
   "id": "a9baa78f-c26b-418f-ab41-c4f7cbfe64a2",
   "metadata": {},
   "source": [
    "#### III.6.2 Température et vent"
   ]
  },
  {
   "cell_type": "markdown",
   "id": "931dfb33-8e6f-4510-a55d-afa15e5d37cd",
   "metadata": {},
   "source": [
    "Nous avons donc pu voir à quel point la structure de dépendance est importante. Nous proposons de l'examiner pour entre la température et le vent pour la correction avec CDF-$t$.\n",
    "\n",
    "**Problème** Représentez sur une figure la structure de dépendance entre `tas` et `sfcWind` pour `X0`, `Y0` et la correction `Z0` de CDF-$t$.\n"
   ]
  },
  {
   "cell_type": "code",
   "execution_count": null,
   "id": "acb335c4-3b16-43ef-9fdf-c6575dc3937d",
   "metadata": {},
   "outputs": [],
   "source": []
  },
  {
   "cell_type": "markdown",
   "id": "20d83202-0c87-48e2-8c86-47376eede684",
   "metadata": {},
   "source": [
    "#### III.6.2. Les corrélations"
   ]
  },
  {
   "cell_type": "markdown",
   "id": "4400ecf9-ee4e-4acb-b3d6-c6429bc92aa8",
   "metadata": {},
   "source": [
    "Les corrélations sont une mesure de la dépendance entre variables.\n",
    "\n",
    "**Problème** À l'aide de la fonction `cor`, calculez les corrélations entre variables de `Y0`, `X0` et des corrections; et comparez les."
   ]
  },
  {
   "cell_type": "code",
   "execution_count": null,
   "id": "b908056c-d353-4b39-ab90-72c13e2d018f",
   "metadata": {},
   "outputs": [],
   "source": []
  },
  {
   "cell_type": "markdown",
   "id": "df4d8feb-1c3b-4354-861b-24a76634b788",
   "metadata": {},
   "source": [
    "### III.7. Résumé\n",
    "La méthode CDF-$t$ propose donc une solution au problème de la non-stationarité. Par contre elle corrige chaque variable indépendemment l'une de l'autre, ce qui conduit à une mauvaise structure de dépendance et affecte des variables comme l'ETP. La méthode R$^2$D$^2$ propose une solution à ce problème."
   ]
  },
  {
   "cell_type": "markdown",
   "id": "445cb8bf-5e4b-4f40-9160-8fcedb868c60",
   "metadata": {},
   "source": [
    "---"
   ]
  },
  {
   "cell_type": "markdown",
   "id": "7890c062-3208-41ff-a4ed-4b76dde9b169",
   "metadata": {},
   "source": [
    "## IV. La méthode R$^2$D$^2$"
   ]
  },
  {
   "cell_type": "markdown",
   "id": "366c0943-c580-4604-8f3f-c81d971b20e9",
   "metadata": {},
   "source": [
    "### IV.1. Éléments théorique"
   ]
  },
  {
   "cell_type": "markdown",
   "id": "8da9b4dd-5072-49ac-8a93-3c4847c0d9cf",
   "metadata": {},
   "source": [
    "La méthode R$^2$D$^2$ a été développé par VRAC et THAO (2020) et VRAC (2018). C'est\n",
    "une méthode en deux temps, qui applique d'abord une méthode univarié (CDF-$t$\n",
    "actuellement), puis change la structure de dépendance en modifiant les rangs\n",
    "avec une méthode inspirée du Schaake-Shuffle (CLARK et al., 2004). La\n",
    "réorganisation des rangs de $\\mathbf{X}$ pour les faire correspondre à ceux de $\\mathbf{Y}$\n",
    "avec le Schaake-Shuffle a été représenté avec les trois matrices suivantes (les\n",
    "rangs sont en gras):"
   ]
  },
  {
   "cell_type": "markdown",
   "id": "193e0dc5-906f-4f13-8250-2be8a79d131a",
   "metadata": {},
   "source": [
    "$$\n",
    "\\mathbf{Y} = \\begin{pmatrix}\n",
    "0.7 & \\mathbf{3} & 0.1 & \\mathbf{1} \\\\\n",
    "0.5 & \\mathbf{1} & 0.9 & \\mathbf{3} \\\\\n",
    "0.6 & \\mathbf{2} & 0.3 & \\mathbf{2}\n",
    "\\end{pmatrix},~\n",
    "%\n",
    "\\mathbf{X} = \\begin{pmatrix}\n",
    "0.8 & \\mathbf{2} & 0.1 & \\mathbf{1} \\\\\n",
    "0.6 & \\mathbf{1} & 0.4 & \\mathbf{2} \\\\\n",
    "0.9 & \\mathbf{3} & 0.7 & \\mathbf{3}\n",
    "\\end{pmatrix},~\n",
    "%\n",
    "\\mathbf{Z} = \\begin{pmatrix}\n",
    "0.9 & \\mathbf{3} & 0.1 & \\mathbf{1} \\\\\n",
    "0.6 & \\mathbf{1} & 0.7 & \\mathbf{3} \\\\\n",
    "0.8 & \\mathbf{2} & 0.4 & \\mathbf{2}\n",
    "\\end{pmatrix}.\n",
    "$$\n"
   ]
  },
  {
   "cell_type": "markdown",
   "id": "a55bb1b4-9dfd-4f7b-8738-b454a5c986b5",
   "metadata": {},
   "source": [
    "Cette méthode peut être appliquée en période de calibration, mais en projection\n",
    "elle suppose que la structure de dépendance reste identique. La méthode R$^2$D$^2$\n",
    "propose de résoudre ce problème en considérant certaines dimensions (variables\n",
    "ou points de grille) comme étant déja valide, et de réorganiser les rangs\n",
    "uniquement par rapport à ces variables dites de *conditionnement*. Avec l'exemple précédent, si nous conditionnons par rapport à la\n",
    "première variable, nous obtenons la correction suivante:\n"
   ]
  },
  {
   "cell_type": "markdown",
   "id": "131f7acf-09b5-4c71-b54a-3fd117cfac5c",
   "metadata": {},
   "source": [
    "$$\n",
    "\\mathbf{Y} = \\begin{pmatrix}\n",
    "0.7 & \\mathbf{3} & 0.1 & \\mathbf{1} \\\\\n",
    "0.5 & \\mathbf{1} & 0.9 & \\mathbf{3} \\\\\n",
    "0.6 & \\mathbf{2} & 0.3 & \\mathbf{2}\n",
    "\\end{pmatrix},~\n",
    "%\n",
    "\\mathbf{X} = \\begin{pmatrix}\n",
    "0.8 & \\mathbf{2} & 0.1 & \\mathbf{1} \\\\\n",
    "0.6 & \\mathbf{1} & 0.4 & \\mathbf{2} \\\\\n",
    "0.9 & \\mathbf{3} & 0.7 & \\mathbf{3}\n",
    "\\end{pmatrix},~\n",
    "%\n",
    "\\mathbf{Z} = \\begin{pmatrix}\n",
    "0.8 & \\mathbf{2} & 0.4 & \\mathbf{2} \\\\\n",
    "0.6 & \\mathbf{1} & 0.7 & \\mathbf{3} \\\\\n",
    "0.9 & \\mathbf{3} & 0.1 & \\mathbf{1}\n",
    "\\end{pmatrix}.\n",
    "$$\n"
   ]
  },
  {
   "cell_type": "markdown",
   "id": "3974c4ec-d124-45ad-badf-de0a41cd1c28",
   "metadata": {},
   "source": [
    "Cette approche permet de tenir compte d'une évolution du modèle au travers de la\n",
    "ou les variables de conditionnement"
   ]
  },
  {
   "cell_type": "markdown",
   "id": "df5c34e7-19c5-4a66-a87c-ca24eca379b8",
   "metadata": {},
   "source": [
    "### IV.2. Correction"
   ]
  },
  {
   "cell_type": "markdown",
   "id": "cd348dbf-cb29-4584-a298-193df93c123a",
   "metadata": {},
   "source": [
    "**Problème** Utilisez la méthode R$^2$D$^2$ pour faire la correction, avec la variable `tas` comme variable de conditionnement (méthode `AR2D2`, mot clé `col_cond`)."
   ]
  },
  {
   "cell_type": "code",
   "execution_count": null,
   "id": "dd57546f-75c7-44df-857e-cbba96a45634",
   "metadata": {},
   "outputs": [],
   "source": []
  },
  {
   "cell_type": "markdown",
   "id": "1f774dbe-91cf-4435-96d9-24c83255f4c6",
   "metadata": {},
   "source": [
    "### IV.3. Biais résiduels en calibration"
   ]
  },
  {
   "cell_type": "markdown",
   "id": "27060c84-a585-45ba-a512-df1f161d9d73",
   "metadata": {},
   "source": [
    "**Problème** Comparez les biais des données corrigées et des données d'origines."
   ]
  },
  {
   "cell_type": "code",
   "execution_count": null,
   "id": "91db089b-3007-4051-9a52-032d0fd18990",
   "metadata": {},
   "outputs": [],
   "source": []
  },
  {
   "cell_type": "markdown",
   "id": "ecb66c37-2fd2-4565-9fe8-5b2f78bd7e3b",
   "metadata": {},
   "source": [
    "### IV.4. Et la période de projection ?"
   ]
  },
  {
   "cell_type": "markdown",
   "id": "905c25f4-0bb9-4e70-b334-916cdd2c6083",
   "metadata": {},
   "source": [
    "**Problème** Reproduisez l'analyse de la section précédente, et comparez la aux résultats de CDF-$t$."
   ]
  },
  {
   "cell_type": "code",
   "execution_count": null,
   "id": "032780b6-c58f-4d55-9d55-6c551211ba83",
   "metadata": {},
   "outputs": [],
   "source": []
  },
  {
   "cell_type": "markdown",
   "id": "fb482147-b343-4808-8981-f57abfa7bdbc",
   "metadata": {},
   "source": [
    "### IV.5 Température et vent (bis)"
   ]
  },
  {
   "cell_type": "markdown",
   "id": "cee1e840-07f0-4f96-9881-47516967a7c3",
   "metadata": {},
   "source": [
    "\n",
    "**Problème** Représentez sur une figure la structure de dépendance entre `tas` et `sfcWind` pour `X0`, `Y0` et la correction `Z0` de R$^2$D$^2$. Conclusion par rapport à CDF-$t$?\n"
   ]
  },
  {
   "cell_type": "code",
   "execution_count": null,
   "id": "5cfef93b-c2e7-4043-8410-4cf71e242b9c",
   "metadata": {},
   "outputs": [],
   "source": []
  },
  {
   "cell_type": "markdown",
   "id": "b48a362e-672c-4975-8e3e-724657f02271",
   "metadata": {},
   "source": [
    "### IV.6. Calcul des corrélations"
   ]
  },
  {
   "cell_type": "markdown",
   "id": "34cfc5f0-0815-48ac-934b-67ba9dc3a3a3",
   "metadata": {},
   "source": [
    "**Problème** Reproduisez l'analyse des corrélations de la section précédente, et comparez la aux résultats de CDF-$t$."
   ]
  },
  {
   "cell_type": "code",
   "execution_count": null,
   "id": "fdd6dbda-cafe-4a20-a852-f3b3cc589a73",
   "metadata": {},
   "outputs": [],
   "source": []
  },
  {
   "cell_type": "markdown",
   "id": "327f5534-2f4d-45cb-80b4-1c1070ca2f33",
   "metadata": {},
   "source": [
    "### IV.7. Calcul des ETPs"
   ]
  },
  {
   "cell_type": "markdown",
   "id": "37ac57b9-85ef-4e36-b1c1-40c79e38f969",
   "metadata": {},
   "source": [
    "**Problème** Calculez maintenant les ETPs de la correction R$^2$D$^2$. Analysez les biais et afficher la densité."
   ]
  },
  {
   "cell_type": "code",
   "execution_count": null,
   "id": "59733915-d02d-4f02-a3a5-2ef8c540afa4",
   "metadata": {},
   "outputs": [],
   "source": []
  },
  {
   "cell_type": "markdown",
   "id": "6cfe96b7-d864-4732-b0a7-f89c200c0fa9",
   "metadata": {},
   "source": [
    "### IV.8. Les séquences de 0 de la pluie"
   ]
  },
  {
   "cell_type": "markdown",
   "id": "d55f8bf7-f9bf-41a3-9e7c-b41083e7bc64",
   "metadata": {},
   "source": [
    "**Problème** Calculez et représentez sur un graphique le nombre de cluster de 0 de taille 1 jour, 2 jours... 10 jours; pour les observations et les corrections. (Voir la fonction `nb_cluster_0`)."
   ]
  },
  {
   "cell_type": "code",
   "execution_count": null,
   "id": "3e9fb03a-5bb3-4330-9e89-cff092dbe3b0",
   "metadata": {},
   "outputs": [],
   "source": []
  },
  {
   "cell_type": "markdown",
   "id": "239a700f-6754-4552-a4e0-bb677f58b84d",
   "metadata": {},
   "source": [
    "### IV.9. Et les biais mensuels ?"
   ]
  },
  {
   "cell_type": "markdown",
   "id": "7e671a55-1882-48d1-9427-f10094750084",
   "metadata": {},
   "source": [
    "**Problème** Calculer les biais de chaque mois individuellement sur la période de calibration. Conclusion ?"
   ]
  },
  {
   "cell_type": "code",
   "execution_count": null,
   "id": "c4ad2457-555c-4628-808a-7d675102b705",
   "metadata": {},
   "outputs": [],
   "source": []
  },
  {
   "cell_type": "markdown",
   "id": "b88264a8-3eda-4998-bdfc-05f878ce67f3",
   "metadata": {},
   "source": [
    "### IV.10. Résumé\n",
    "La méthode R$^2$D$^2$ permet donc de corriger les corrélations entre variables, mais en ré-ordonnant les rangs cela affecte la temporalité, ce que nous avons vu avec les précipitations. Une évolution de R$^2$D$^2$ propose une solution à ce problème (voir annexe)."
   ]
  },
  {
   "cell_type": "markdown",
   "id": "25d30da9-e9e5-41bf-9a5f-433c5ce5dfcb",
   "metadata": {},
   "source": [
    "## V. Pour la suite"
   ]
  },
  {
   "cell_type": "markdown",
   "id": "16ca578b-8759-4d67-9c77-94d074c9d173",
   "metadata": {},
   "source": [
    "Vous pouvez maintenant corriger les différents modèles et les saisons avec ce que vous avez appris, et utiliser ces données pour les TP suivant!"
   ]
  },
  {
   "cell_type": "markdown",
   "id": "5c78499e-6a0f-41b2-b813-64fd33aeccc5",
   "metadata": {},
   "source": [
    "---"
   ]
  },
  {
   "cell_type": "markdown",
   "id": "8aba5385-838d-4b0c-9e5e-f06460429d20",
   "metadata": {},
   "source": [
    "## Références"
   ]
  },
  {
   "cell_type": "markdown",
   "id": "56f11dd0-f2b6-430d-b977-4c00a392c55f",
   "metadata": {},
   "source": [
    "- CLARK, M. et al. (2004). “The Schaake Shuffle : A Method for Reconstructing Space–Time Variability in Forecasted Precipitation and Temperature Fields”. In : J. Hydrometeor. 5.1, p. 243‐262. DOI : 10.1175/1525-7541(2004)005<0243:TSSAMF>2.0.CO;2.\n",
    "- HADDAD, Z. S. et D. ROSENFELD (1997). “Optimality of empirical Z‐R relations”. In : Q.J.R. Meteorol. Soc. 123.541, p. 1283‐1293. DOI : 10.1002/qj.49712354107.\n",
    "- VRAC, M. (2018). “Multivariate bias adjustment of high‐dimensional climate simulations : the Rank Resampling for Distributions and Dependences (R2D2) bias correction”. In : Hydrology and Earth System Sciences 22.6, p. 3175‐3196. DOI : 10.5194/hess-22-3175-2018.\n",
    "- VRAC, M. et S. THAO (2020). “R2D2 v2.0 : accounting for temporal dependences in multivariate bias correction via analogue rank resampling”. In : Geosci. Model Dev. 13.11, p. 5367‐5387. DOI : 10.5194/gmd-13-5367-2020."
   ]
  },
  {
   "cell_type": "markdown",
   "id": "7bbc3e44-a25d-4688-9011-89a76a13d10f",
   "metadata": {},
   "source": [
    "---"
   ]
  },
  {
   "cell_type": "markdown",
   "id": "5c4caf50-83dd-4503-b451-1d2cce17708f",
   "metadata": {},
   "source": [
    "## A. Ouverture: correction en temporel"
   ]
  },
  {
   "cell_type": "markdown",
   "id": "abe82dfc-7ce9-4108-bcb4-5ab17fea6253",
   "metadata": {},
   "source": [
    "Une extension de R$^2$D$^2$ permet de corriger le temporel. Elle consiste à ne plus corriger uniquement par ligne, mais à corriger des *blocs de lignes*, ce qui permet de tenir compte de la dépendance temporelle. Le mot clé `lag_search` permet de chercher des séquences de rangs de longueur `lag_search`, et uniquement `lag_keep` seront utilisés pour la correction."
   ]
  },
  {
   "cell_type": "markdown",
   "id": "70ce0beb-0d40-4e83-8ee4-db61cb14a828",
   "metadata": {},
   "source": [
    "**Problème** Reprenez la correction avec R$^2$D$^2$, `lag_search=6` et `lag_keep=3`, et comparez les clusters de 0."
   ]
  },
  {
   "cell_type": "code",
   "execution_count": null,
   "id": "cdf24d30-402b-464a-994a-d0f561aceaf3",
   "metadata": {},
   "outputs": [],
   "source": []
  }
 ],
 "metadata": {
  "kernelspec": {
   "display_name": "R",
   "language": "R",
   "name": "ir"
  },
  "language_info": {
   "codemirror_mode": "r",
   "file_extension": ".r",
   "mimetype": "text/x-r-source",
   "name": "R",
   "pygments_lexer": "r",
   "version": "4.1.3"
  }
 },
 "nbformat": 4,
 "nbformat_minor": 5
}
